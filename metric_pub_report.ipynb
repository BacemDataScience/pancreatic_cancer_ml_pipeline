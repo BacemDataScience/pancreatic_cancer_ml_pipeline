{
 "cells": [
  {
   "cell_type": "markdown",
   "metadata": {},
   "source": [
    "## Create results summary report for publication tables\n",
    "- for each dataset and ML algorithm metric summary file...\n",
    "- open associated metric file and calculate the average and standard devation of each set of 10 CV values\n",
    "- Create summary files for each metric and save as individual excel files.\n",
    "- Run statistical significance comparisons on metric results (non-parametric)"
   ]
  },
  {
   "cell_type": "code",
   "execution_count": 1,
   "metadata": {},
   "outputs": [],
   "source": [
    "import os\n",
    "import random\n",
    "import copy\n",
    "import pandas as pd\n",
    "import numpy as np\n",
    "pd.set_option('display.max_columns', None) # display all the columns\n",
    "import scipy.stats as scs\n",
    "from scipy.stats import randint\n",
    "import warnings\n",
    "warnings.filterwarnings('ignore')\n",
    "\n",
    "#Statistics packages\n",
    "from scipy import stats\n",
    "\n",
    "#Plotting\n",
    "import matplotlib.pyplot as plt\n",
    "\n",
    "# Jupyter Notebook Hack: This code ensures that the results of multiple commands within a given cell are all displayed, rather than just the last. \n",
    "from IPython.core.interactiveshell import InteractiveShell\n",
    "InteractiveShell.ast_node_interactivity = \"all\""
   ]
  },
  {
   "cell_type": "markdown",
   "metadata": {},
   "source": [
    "## Specify dataset specific paths\n",
    "This should be the only section/cell in this notebook that is customized to the specific dataset. It may be necessary to change the names and paths to point this notebook to the "
   ]
  },
  {
   "cell_type": "code",
   "execution_count": 31,
   "metadata": {},
   "outputs": [],
   "source": [
    "#number\n",
    "cv = 10\n",
    "\n",
    "#unique dataset names\n",
    "datasets = ['EpiOnly_20180710_Clean','Epi_DietAdj_20180710_Clean','Epi_DietAdj_Matched_20180710_Clean']\n",
    "\n",
    "#algorithm names as specified in the respective analysis pipeline notebooks\n",
    "algorithms = ['logistic_regression','decision_tree','random_forest','xgboost','naive_bayes','svm','ann','lcs']\n",
    "\n",
    "results_path = 'C:/home/work/research_collab/Lynch_Bias_ML_Pancreatic/Final Materials/results/notebook_output/'\n",
    "\n",
    "#import separate LCS analysis results\n",
    "lcs_results_path = 'C:/home/work/research_collab/Lynch_Bias_ML_Pancreatic/Final Materials/results/summary_files/Whole_Datasets_200000/'\n",
    "\n",
    "metrics = ['Accuracy','Balanced Accuracy','F1_Score','Precision','Recall','Specificity','TN','TP','FN','FP']\n"
   ]
  },
  {
   "cell_type": "code",
   "execution_count": 6,
   "metadata": {},
   "outputs": [],
   "source": [
    "#Creating data frames to store all results summary.\n",
    "tp_df = pd.DataFrame(index=algorithms,columns=datasets)\n",
    "tn_df = pd.DataFrame(index=algorithms,columns=datasets)\n",
    "fp_df = pd.DataFrame(index=algorithms,columns=datasets)\n",
    "fn_df = pd.DataFrame(index=algorithms,columns=datasets)\n",
    "acc_df = pd.DataFrame(index=algorithms,columns=datasets)\n",
    "bacc_df = pd.DataFrame(index=algorithms,columns=datasets)\n",
    "rec_df = pd.DataFrame(index=algorithms,columns=datasets) \n",
    "spec_df = pd.DataFrame(index=algorithms,columns=datasets)\n",
    "prec_df = pd.DataFrame(index=algorithms,columns=datasets)\n",
    "f1_df = pd.DataFrame(index=algorithms,columns=datasets)\n",
    "\n",
    "#Store dataframes for later anlaysis\n",
    "\n",
    "for data in datasets:\n",
    "    for algorithm in algorithms:\n",
    "        if algorithm != 'lcs': #Ignore LCS for now\n",
    "            #Open corresponding results file\n",
    "            filename = results_path+data+'_'+algorithm+'_metrics.csv'\n",
    "            td = pd.read_csv(filename)\n",
    "\n",
    "            #TP\n",
    "            ave = td['TP'].mean()\n",
    "            sd = td['TP'].mean()\n",
    "            tp_df.at[algorithm, data] = str(round(ave,4))+' ('+str(round(sd,4))+')'\n",
    "\n",
    "            #TN\n",
    "            ave = td['TN'].mean()\n",
    "            sd = td['TN'].mean()\n",
    "            tn_df.at[algorithm, data] = str(round(ave,4))+' ('+str(round(sd,4))+')'\n",
    "\n",
    "            #FP\n",
    "            ave = td['FP'].mean()\n",
    "            sd = td['FP'].mean()\n",
    "            fp_df.at[algorithm, data] = str(round(ave,4))+' ('+str(round(sd,4))+')'\n",
    "\n",
    "            #FN\n",
    "            ave = td['FN'].mean()\n",
    "            sd = td['FN'].mean()\n",
    "            fn_df.at[algorithm, data] = str(round(ave,4))+' ('+str(round(sd,4))+')'    \n",
    "\n",
    "            #Accuracy\n",
    "            ave = td['Accuracy'].mean()\n",
    "            sd = td['Accuracy'].mean()\n",
    "            acc_df.at[algorithm, data] = str(round(ave,4))+' ('+str(round(sd,4))+')'    \n",
    "\n",
    "            #Balanced Accuracy\n",
    "            ave = td['Balanced Accuracy'].mean()\n",
    "            sd = td['Balanced Accuracy'].mean()\n",
    "            bacc_df.at[algorithm, data] = str(round(ave,4))+' ('+str(round(sd,4))+')'  \n",
    "\n",
    "            #F1_Score\n",
    "            ave = td['F1_Score'].mean()\n",
    "            sd = td['F1_Score'].mean()\n",
    "            f1_df.at[algorithm, data] = str(round(ave,4))+' ('+str(round(sd,4))+')'  \n",
    "\n",
    "            #Precision\n",
    "            ave = td['Precision'].mean()\n",
    "            sd = td['Precision'].mean()\n",
    "            prec_df.at[algorithm, data] = str(round(ave,4))+' ('+str(round(sd,4))+')'         \n",
    "\n",
    "            #Recall\n",
    "            ave = td['Recall'].mean()\n",
    "            sd = td['Recall'].mean()\n",
    "            rec_df.at[algorithm, data] = str(round(ave,4))+' ('+str(round(sd,4))+')'  \n",
    "\n",
    "            #Specificity\n",
    "            ave = td['Specificity'].mean()\n",
    "            sd = td['Specificity'].mean()\n",
    "            spec_df.at[algorithm, data] = str(round(ave,4))+' ('+str(round(sd,4))+')'  \n",
    "        "
   ]
  },
  {
   "cell_type": "markdown",
   "metadata": {},
   "source": [
    "### Load LCS metrics results\n",
    "- create dictionary from LCS results- as metrics are not in same order\n",
    "- these files also include an extra row with averages precalculated (we will ignore these here)"
   ]
  },
  {
   "cell_type": "code",
   "execution_count": 8,
   "metadata": {},
   "outputs": [
    {
     "data": {
      "text/plain": [
       "(11, 13)"
      ]
     },
     "execution_count": 8,
     "metadata": {},
     "output_type": "execute_result"
    },
    {
     "data": {
      "text/plain": [
       "(10, 13)"
      ]
     },
     "execution_count": 8,
     "metadata": {},
     "output_type": "execute_result"
    },
    {
     "data": {
      "text/plain": [
       "(11, 13)"
      ]
     },
     "execution_count": 8,
     "metadata": {},
     "output_type": "execute_result"
    },
    {
     "data": {
      "text/plain": [
       "(10, 13)"
      ]
     },
     "execution_count": 8,
     "metadata": {},
     "output_type": "execute_result"
    },
    {
     "data": {
      "text/plain": [
       "(11, 13)"
      ]
     },
     "execution_count": 8,
     "metadata": {},
     "output_type": "execute_result"
    },
    {
     "data": {
      "text/plain": [
       "(10, 13)"
      ]
     },
     "execution_count": 8,
     "metadata": {},
     "output_type": "execute_result"
    }
   ],
   "source": [
    "#update algorithms list\n",
    "for data in datasets:\n",
    "    LCSdata = ''\n",
    "    if data == 'Epi_DietAdj_Matched_20180710_Clean':\n",
    "        LCSdata = lcs_results_path+'ExSTraCS_2.0.2.1_'+data+'_InstLab_CV_M_200000_metric_summary.txt'\n",
    "    else:\n",
    "        LCSdata = lcs_results_path+'ExSTraCS_2.0.2.1_'+data+'_InstLab_200000_metric_summary.txt'\n",
    "        \n",
    "    td = pd.read_csv(LCSdata, sep = \"\\t\")\n",
    "    td.shape\n",
    "    \n",
    "    td = td.drop(td.index[-1])\n",
    "    td.shape\n",
    "    \n",
    "    #TP\n",
    "    ave = td['TP'].mean()\n",
    "    sd = td['TP'].mean()\n",
    "    tp_df.at['lcs', data] = str(round(ave,4))+' ('+str(round(sd,4))+')'\n",
    "\n",
    "    #TN\n",
    "    ave = td['TN'].mean()\n",
    "    sd = td['TN'].mean()\n",
    "    tn_df.at['lcs', data] = str(round(ave,4))+' ('+str(round(sd,4))+')'\n",
    "\n",
    "    #FP\n",
    "    ave = td['FP'].mean()\n",
    "    sd = td['FP'].mean()\n",
    "    fp_df.at['lcs', data] = str(round(ave,4))+' ('+str(round(sd,4))+')'\n",
    "\n",
    "    #FN\n",
    "    ave = td['FN'].mean()\n",
    "    sd = td['FN'].mean()\n",
    "    fn_df.at['lcs', data] = str(round(ave,4))+' ('+str(round(sd,4))+')'    \n",
    "\n",
    "    #Accuracy\n",
    "    ave = td['Accuracy'].mean()\n",
    "    sd = td['Accuracy'].mean()\n",
    "    acc_df.at['lcs', data] = str(round(ave,4))+' ('+str(round(sd,4))+')'    \n",
    "\n",
    "    #Balanced Accuracy\n",
    "    ave = td['BalancedAccuracy'].mean()\n",
    "    sd = td['BalancedAccuracy'].mean()\n",
    "    bacc_df.at['lcs', data] = str(round(ave,4))+' ('+str(round(sd,4))+')'  \n",
    "\n",
    "    #F1_Score\n",
    "    ave = td['F1'].mean()\n",
    "    sd = td['F1'].mean()\n",
    "    f1_df.at['lcs', data] = str(round(ave,4))+' ('+str(round(sd,4))+')'  \n",
    "\n",
    "    #Precision\n",
    "    ave = td['Precision'].mean()\n",
    "    sd = td['Precision'].mean()\n",
    "    prec_df.at['lcs', data] = str(round(ave,4))+' ('+str(round(sd,4))+')'         \n",
    "\n",
    "    #Recall\n",
    "    ave = td['Recall'].mean()\n",
    "    sd = td['Recall'].mean()\n",
    "    rec_df.at['lcs', data] = str(round(ave,4))+' ('+str(round(sd,4))+')'  \n",
    "\n",
    "    #Specificity\n",
    "    ave = td['Specificity'].mean()\n",
    "    sd = td['Specificity'].mean()\n",
    "    spec_df.at['lcs', data] = str(round(ave,4))+' ('+str(round(sd,4))+')'  \n",
    "\n",
    "#rawMSScores = pd.read_csv(('C:/home/work/research_collab/Shannon_Lynch/PSB_Paper_Analysis/summary_files/MultiSURF_EpiOnly_20180710_Clean_results_summary.txt'), sep = \"\\t\")"
   ]
  },
  {
   "cell_type": "markdown",
   "metadata": {},
   "source": [
    "## Save individual stats summary files (per metric)"
   ]
  },
  {
   "cell_type": "code",
   "execution_count": 9,
   "metadata": {},
   "outputs": [],
   "source": [
    "#TP\n",
    "filepath = results_path+'Stats_TP.csv'\n",
    "tp_df.to_csv(filepath)  \n",
    "\n",
    "#TN\n",
    "filepath = results_path+'Stats_TN.csv'\n",
    "tn_df.to_csv(filepath)  \n",
    "\n",
    "#FP\n",
    "filepath = results_path+'Stats_FP.csv'\n",
    "fp_df.to_csv(filepath)  \n",
    "\n",
    "#FN\n",
    "filepath = results_path+'Stats_FN.csv'\n",
    "fn_df.to_csv(filepath)  \n",
    "\n",
    "#Accuracy\n",
    "filepath = results_path+'Stats_Accuracy.csv'\n",
    "acc_df.to_csv(filepath)  \n",
    "\n",
    "#Balanced Accuracy\n",
    "filepath = results_path+'Stats_BAccuracy.csv'\n",
    "bacc_df.to_csv(filepath)  \n",
    "\n",
    "#Recall\n",
    "filepath = results_path+'Stats_Recall.csv'\n",
    "rec_df.to_csv(filepath)  \n",
    "\n",
    "#Specificity\n",
    "filepath = results_path+'Stats_Specificity.csv'\n",
    "spec_df.to_csv(filepath)  \n",
    "\n",
    "#Precision\n",
    "filepath = results_path+'Stats_Precision.csv'\n",
    "prec_df.to_csv(filepath)  \n",
    "\n",
    "#F1 Score\n",
    "filepath = results_path+'Stats_F1Score.csv'\n",
    "f1_df.to_csv(filepath) "
   ]
  },
  {
   "cell_type": "markdown",
   "metadata": {},
   "source": [
    "## Statistical Significance comparisons\n",
    "- completed within the context of a single metric at a time. \n",
    "- is there a performance difference between the ML's within a given dataset. (kruskal wallis test)\n",
    "- is the best significantly different from second best (Mann-Whitnesy U test - i.e. Wilcoxon rank-sum test)"
   ]
  },
  {
   "cell_type": "code",
   "execution_count": 12,
   "metadata": {},
   "outputs": [],
   "source": [
    "#Grab all balanced accuracy CV results over all analyses. \n",
    "\n",
    "d1_bacc = []\n",
    "d2_bacc = []\n",
    "d3_bacc = []\n",
    "\n",
    "data_count = 0\n",
    "for data in datasets:\n",
    "    for algorithm in algorithms:\n",
    "        if algorithm != 'lcs': #Ignore LCS for now\n",
    "            #Open corresponding results file\n",
    "            filename = results_path+data+'_'+algorithm+'_metrics.csv'\n",
    "            td = pd.read_csv(filename)\n",
    "            tdToList = td['Balanced Accuracy'].tolist() #Grab CV results for bacc\n",
    "            \n",
    "            if data_count == 0:\n",
    "                d1_bacc.append(tdToList)\n",
    "            elif data_count == 1:\n",
    "                d2_bacc.append(tdToList)\n",
    "            elif data_count == 2:\n",
    "                d3_bacc.append(tdToList)\n",
    "            else:\n",
    "                print(\"error!!!!!\")\n",
    "                \n",
    "    #Add in LCS\n",
    "    LCSdata = ''\n",
    "    if data == 'Epi_DietAdj_Matched_20180710_Clean':\n",
    "        LCSdata = lcs_results_path+'ExSTraCS_2.0.2.1_'+data+'_InstLab_CV_M_200000_metric_summary.txt'\n",
    "    else:\n",
    "        LCSdata = lcs_results_path+'ExSTraCS_2.0.2.1_'+data+'_InstLab_200000_metric_summary.txt'\n",
    "        \n",
    "    td = pd.read_csv(LCSdata, sep = \"\\t\")\n",
    "    td = td.drop(td.index[-1])\n",
    "    tdToList = td['BalancedAccuracy'].tolist() #Grab CV results for bacc\n",
    "    \n",
    "    if data_count == 0:\n",
    "        d1_bacc.append(tdToList)\n",
    "    elif data_count == 1:\n",
    "        d2_bacc.append(tdToList)\n",
    "    elif data_count == 2:\n",
    "        d3_bacc.append(tdToList)\n",
    "    else:\n",
    "        print(\"error!!!!!\")\n",
    "    \n",
    "                \n",
    "    data_count += 1"
   ]
  },
  {
   "cell_type": "markdown",
   "metadata": {},
   "source": [
    "## Kruskal Wallis Test (per dataset)"
   ]
  },
  {
   "cell_type": "code",
   "execution_count": 13,
   "metadata": {},
   "outputs": [
    {
     "name": "stdout",
     "output_type": "stream",
     "text": [
      "EpiOnly_20180710_Clean\n"
     ]
    },
    {
     "data": {
      "text/plain": [
       "KruskalResult(statistic=57.34439352276202, pvalue=5.105699883503447e-10)"
      ]
     },
     "execution_count": 13,
     "metadata": {},
     "output_type": "execute_result"
    },
    {
     "name": "stdout",
     "output_type": "stream",
     "text": [
      "Epi_DietAdj_20180710_Clean\n"
     ]
    },
    {
     "data": {
      "text/plain": [
       "KruskalResult(statistic=66.96047135196164, pvalue=6.063992352649637e-12)"
      ]
     },
     "execution_count": 13,
     "metadata": {},
     "output_type": "execute_result"
    },
    {
     "name": "stdout",
     "output_type": "stream",
     "text": [
      "Epi_DietAdj_Matched_20180710_Clean\n"
     ]
    },
    {
     "data": {
      "text/plain": [
       "KruskalResult(statistic=19.399236766902266, pvalue=0.007024523838197663)"
      ]
     },
     "execution_count": 13,
     "metadata": {},
     "output_type": "execute_result"
    }
   ],
   "source": [
    "#Balanced Accuracy\n",
    "print(datasets[0])\n",
    "stats.kruskal(d1_bacc[0],d1_bacc[1],d1_bacc[2],d1_bacc[3],d1_bacc[4],d1_bacc[5],d1_bacc[6],d1_bacc[7])\n",
    "\n",
    "print(datasets[1])\n",
    "stats.kruskal(d2_bacc[0],d2_bacc[1],d2_bacc[2],d2_bacc[3],d2_bacc[4],d2_bacc[5],d2_bacc[6],d2_bacc[7])\n",
    "\n",
    "print(datasets[2])\n",
    "stats.kruskal(d3_bacc[0],d3_bacc[1],d3_bacc[2],d3_bacc[3],d3_bacc[4],d3_bacc[5],d3_bacc[6],d3_bacc[7])"
   ]
  },
  {
   "cell_type": "markdown",
   "metadata": {},
   "source": [
    "## Boxplot of Balanced accuracy over machine learners"
   ]
  },
  {
   "cell_type": "code",
   "execution_count": 36,
   "metadata": {},
   "outputs": [
    {
     "data": {
      "text/plain": [
       "Text(0.5, 1.0, 'EpiOnly_20180710_Clean')"
      ]
     },
     "execution_count": 36,
     "metadata": {},
     "output_type": "execute_result"
    },
    {
     "data": {
      "text/plain": [
       "Text(0, 0.5, 'Balanced Accuracy')"
      ]
     },
     "execution_count": 36,
     "metadata": {},
     "output_type": "execute_result"
    },
    {
     "data": {
      "text/plain": [
       "Text(0.5, 0, 'ML Algorithm')"
      ]
     },
     "execution_count": 36,
     "metadata": {},
     "output_type": "execute_result"
    },
    {
     "data": {
      "image/png": "[encoded data removed]",
      "text/plain": [
       "<Figure size 432x288 with 1 Axes>"
      ]
     },
     "metadata": {
      "needs_background": "light"
     },
     "output_type": "display_data"
    }
   ],
   "source": [
    "#Dataset 1\n",
    "td1 = pd.DataFrame(d1_bacc)\n",
    "td1 = td1.transpose()\n",
    "td1.columns = algorithms\n",
    "\n",
    "boxplot = td1.boxplot(column=algorithms,rot=45)\n",
    "plt.title(datasets[0])\n",
    "plt.ylabel('Balanced Accuracy')\n",
    "plt.xlabel('ML Algorithm')\n",
    "plt.savefig((results_path+'boxplot_' + datasets[0]), bbox_inches = \"tight\")\n",
    "plt.show()"
   ]
  },
  {
   "cell_type": "code",
   "execution_count": 39,
   "metadata": {},
   "outputs": [
    {
     "data": {
      "text/plain": [
       "Text(0.5, 1.0, 'Epi_DietAdj_20180710_Clean')"
      ]
     },
     "execution_count": 39,
     "metadata": {},
     "output_type": "execute_result"
    },
    {
     "data": {
      "text/plain": [
       "Text(0, 0.5, 'Balanced Accuracy')"
      ]
     },
     "execution_count": 39,
     "metadata": {},
     "output_type": "execute_result"
    },
    {
     "data": {
      "text/plain": [
       "Text(0.5, 0, 'ML Algorithm')"
      ]
     },
     "execution_count": 39,
     "metadata": {},
     "output_type": "execute_result"
    },
    {
     "data": {
      "image/png": "[encoded data removed]",
      "text/plain": [
       "<Figure size 432x288 with 1 Axes>"
      ]
     },
     "metadata": {
      "needs_background": "light"
     },
     "output_type": "display_data"
    }
   ],
   "source": [
    "#Dataset 2\n",
    "td2 = pd.DataFrame(d2_bacc)\n",
    "td2 = td2.transpose()\n",
    "td2.columns = algorithms\n",
    "\n",
    "boxplot = td2.boxplot(column=algorithms,rot=45)\n",
    "plt.title(datasets[1])\n",
    "plt.ylabel('Balanced Accuracy')\n",
    "plt.xlabel('ML Algorithm')\n",
    "plt.savefig((results_path+'boxplot_' + datasets[1]), bbox_inches = \"tight\")\n",
    "plt.show()"
   ]
  },
  {
   "cell_type": "code",
   "execution_count": 40,
   "metadata": {},
   "outputs": [
    {
     "data": {
      "text/plain": [
       "Text(0.5, 1.0, 'Epi_DietAdj_Matched_20180710_Clean')"
      ]
     },
     "execution_count": 40,
     "metadata": {},
     "output_type": "execute_result"
    },
    {
     "data": {
      "text/plain": [
       "Text(0, 0.5, 'Balanced Accuracy')"
      ]
     },
     "execution_count": 40,
     "metadata": {},
     "output_type": "execute_result"
    },
    {
     "data": {
      "text/plain": [
       "Text(0.5, 0, 'ML Algorithm')"
      ]
     },
     "execution_count": 40,
     "metadata": {},
     "output_type": "execute_result"
    },
    {
     "data": {
      "image/png": "[encoded data removed]",
      "text/plain": [
       "<Figure size 432x288 with 1 Axes>"
      ]
     },
     "metadata": {
      "needs_background": "light"
     },
     "output_type": "display_data"
    }
   ],
   "source": [
    "#Dataset 3\n",
    "td3 = pd.DataFrame(d3_bacc)\n",
    "td3 = td3.transpose()\n",
    "td3.columns = algorithms\n",
    "\n",
    "boxplot = td3.boxplot(column=algorithms,rot=45)\n",
    "plt.title(datasets[2])\n",
    "plt.ylabel('Balanced Accuracy')\n",
    "plt.xlabel('ML Algorithm')\n",
    "plt.savefig((results_path+'boxplot_' + datasets[2]), bbox_inches = \"tight\")\n",
    "plt.show()"
   ]
  },
  {
   "cell_type": "markdown",
   "metadata": {},
   "source": [
    "## Mann-Whitney U test (pairwise comparisons in dataset 1)"
   ]
  },
  {
   "cell_type": "code",
   "execution_count": 32,
   "metadata": {},
   "outputs": [
    {
     "name": "stdout",
     "output_type": "stream",
     "text": [
      "Mann-WhitneyU: logistic_regression vs. decision_tree\n"
     ]
    },
    {
     "data": {
      "text/plain": [
       "MannwhitneyuResult(statistic=8.0, pvalue=0.0008531246844597982)"
      ]
     },
     "execution_count": 32,
     "metadata": {},
     "output_type": "execute_result"
    },
    {
     "name": "stdout",
     "output_type": "stream",
     "text": [
      "Mann-WhitneyU: logistic_regression vs. random_forest\n"
     ]
    },
    {
     "data": {
      "text/plain": [
       "MannwhitneyuResult(statistic=26.0, pvalue=0.03783078607194352)"
      ]
     },
     "execution_count": 32,
     "metadata": {},
     "output_type": "execute_result"
    },
    {
     "name": "stdout",
     "output_type": "stream",
     "text": [
      "Mann-WhitneyU: logistic_regression vs. xgboost\n"
     ]
    },
    {
     "data": {
      "text/plain": [
       "MannwhitneyuResult(statistic=11.0, pvalue=0.0018052571561648014)"
      ]
     },
     "execution_count": 32,
     "metadata": {},
     "output_type": "execute_result"
    },
    {
     "name": "stdout",
     "output_type": "stream",
     "text": [
      "Mann-WhitneyU: logistic_regression vs. naive_bayes\n"
     ]
    },
    {
     "data": {
      "text/plain": [
       "MannwhitneyuResult(statistic=2.0, pvalue=0.00016491926038899677)"
      ]
     },
     "execution_count": 32,
     "metadata": {},
     "output_type": "execute_result"
    },
    {
     "name": "stdout",
     "output_type": "stream",
     "text": [
      "Mann-WhitneyU: logistic_regression vs. svm\n"
     ]
    },
    {
     "data": {
      "text/plain": [
       "MannwhitneyuResult(statistic=5.0, pvalue=0.00036693611077166983)"
      ]
     },
     "execution_count": 32,
     "metadata": {},
     "output_type": "execute_result"
    },
    {
     "name": "stdout",
     "output_type": "stream",
     "text": [
      "Mann-WhitneyU: logistic_regression vs. ann\n"
     ]
    },
    {
     "data": {
      "text/plain": [
       "MannwhitneyuResult(statistic=20.0, pvalue=0.011349172658687946)"
      ]
     },
     "execution_count": 32,
     "metadata": {},
     "output_type": "execute_result"
    },
    {
     "name": "stdout",
     "output_type": "stream",
     "text": [
      "Mann-WhitneyU: logistic_regression vs. lcs\n"
     ]
    },
    {
     "data": {
      "text/plain": [
       "MannwhitneyuResult(statistic=0.0, pvalue=9.133589555477501e-05)"
      ]
     },
     "execution_count": 32,
     "metadata": {},
     "output_type": "execute_result"
    },
    {
     "name": "stdout",
     "output_type": "stream",
     "text": [
      "Mann-WhitneyU: decision_tree vs. random_forest\n"
     ]
    },
    {
     "data": {
      "text/plain": [
       "MannwhitneyuResult(statistic=21.0, pvalue=0.015604506385870109)"
      ]
     },
     "execution_count": 32,
     "metadata": {},
     "output_type": "execute_result"
    },
    {
     "name": "stdout",
     "output_type": "stream",
     "text": [
      "Mann-WhitneyU: decision_tree vs. xgboost\n"
     ]
    },
    {
     "data": {
      "text/plain": [
       "MannwhitneyuResult(statistic=34.0, pvalue=0.12066079650859002)"
      ]
     },
     "execution_count": 32,
     "metadata": {},
     "output_type": "execute_result"
    },
    {
     "name": "stdout",
     "output_type": "stream",
     "text": [
      "Mann-WhitneyU: decision_tree vs. naive_bayes\n"
     ]
    },
    {
     "data": {
      "text/plain": [
       "MannwhitneyuResult(statistic=28.5, pvalue=0.05613775299027845)"
      ]
     },
     "execution_count": 32,
     "metadata": {},
     "output_type": "execute_result"
    },
    {
     "name": "stdout",
     "output_type": "stream",
     "text": [
      "Mann-WhitneyU: decision_tree vs. svm\n"
     ]
    },
    {
     "data": {
      "text/plain": [
       "MannwhitneyuResult(statistic=1.0, pvalue=0.00011656370347000333)"
      ]
     },
     "execution_count": 32,
     "metadata": {},
     "output_type": "execute_result"
    },
    {
     "name": "stdout",
     "output_type": "stream",
     "text": [
      "Mann-WhitneyU: decision_tree vs. ann\n"
     ]
    },
    {
     "data": {
      "text/plain": [
       "MannwhitneyuResult(statistic=18.0, pvalue=0.007488247878897449)"
      ]
     },
     "execution_count": 32,
     "metadata": {},
     "output_type": "execute_result"
    },
    {
     "name": "stdout",
     "output_type": "stream",
     "text": [
      "Mann-WhitneyU: decision_tree vs. lcs\n"
     ]
    },
    {
     "data": {
      "text/plain": [
       "MannwhitneyuResult(statistic=2.0, pvalue=0.00016491926038899677)"
      ]
     },
     "execution_count": 32,
     "metadata": {},
     "output_type": "execute_result"
    },
    {
     "name": "stdout",
     "output_type": "stream",
     "text": [
      "Mann-WhitneyU: random_forest vs. xgboost\n"
     ]
    },
    {
     "data": {
      "text/plain": [
       "MannwhitneyuResult(statistic=30.5, pvalue=0.07538666892672001)"
      ]
     },
     "execution_count": 32,
     "metadata": {},
     "output_type": "execute_result"
    },
    {
     "name": "stdout",
     "output_type": "stream",
     "text": [
      "Mann-WhitneyU: random_forest vs. naive_bayes\n"
     ]
    },
    {
     "data": {
      "text/plain": [
       "MannwhitneyuResult(statistic=9.0, pvalue=0.0011011099712485391)"
      ]
     },
     "execution_count": 32,
     "metadata": {},
     "output_type": "execute_result"
    },
    {
     "name": "stdout",
     "output_type": "stream",
     "text": [
      "Mann-WhitneyU: random_forest vs. svm\n"
     ]
    },
    {
     "data": {
      "text/plain": [
       "MannwhitneyuResult(statistic=1.0, pvalue=0.00011656370347000333)"
      ]
     },
     "execution_count": 32,
     "metadata": {},
     "output_type": "execute_result"
    },
    {
     "name": "stdout",
     "output_type": "stream",
     "text": [
      "Mann-WhitneyU: random_forest vs. ann\n"
     ]
    },
    {
     "data": {
      "text/plain": [
       "MannwhitneyuResult(statistic=20.0, pvalue=0.011349172658687946)"
      ]
     },
     "execution_count": 32,
     "metadata": {},
     "output_type": "execute_result"
    },
    {
     "name": "stdout",
     "output_type": "stream",
     "text": [
      "Mann-WhitneyU: random_forest vs. lcs\n"
     ]
    },
    {
     "data": {
      "text/plain": [
       "MannwhitneyuResult(statistic=0.0, pvalue=9.133589555477501e-05)"
      ]
     },
     "execution_count": 32,
     "metadata": {},
     "output_type": "execute_result"
    },
    {
     "name": "stdout",
     "output_type": "stream",
     "text": [
      "Mann-WhitneyU: xgboost vs. naive_bayes\n"
     ]
    },
    {
     "data": {
      "text/plain": [
       "MannwhitneyuResult(statistic=15.0, pvalue=0.004554248199015482)"
      ]
     },
     "execution_count": 32,
     "metadata": {},
     "output_type": "execute_result"
    },
    {
     "name": "stdout",
     "output_type": "stream",
     "text": [
      "Mann-WhitneyU: xgboost vs. svm\n"
     ]
    },
    {
     "data": {
      "text/plain": [
       "MannwhitneyuResult(statistic=0.0, pvalue=8.632699844113366e-05)"
      ]
     },
     "execution_count": 32,
     "metadata": {},
     "output_type": "execute_result"
    },
    {
     "name": "stdout",
     "output_type": "stream",
     "text": [
      "Mann-WhitneyU: xgboost vs. ann\n"
     ]
    },
    {
     "data": {
      "text/plain": [
       "MannwhitneyuResult(statistic=20.0, pvalue=0.011349172658687946)"
      ]
     },
     "execution_count": 32,
     "metadata": {},
     "output_type": "execute_result"
    },
    {
     "name": "stdout",
     "output_type": "stream",
     "text": [
      "Mann-WhitneyU: xgboost vs. lcs\n"
     ]
    },
    {
     "data": {
      "text/plain": [
       "MannwhitneyuResult(statistic=0.0, pvalue=9.133589555477501e-05)"
      ]
     },
     "execution_count": 32,
     "metadata": {},
     "output_type": "execute_result"
    },
    {
     "name": "stdout",
     "output_type": "stream",
     "text": [
      "Mann-WhitneyU: naive_bayes vs. svm\n"
     ]
    },
    {
     "data": {
      "text/plain": [
       "MannwhitneyuResult(statistic=0.0, pvalue=8.632699844113366e-05)"
      ]
     },
     "execution_count": 32,
     "metadata": {},
     "output_type": "execute_result"
    },
    {
     "name": "stdout",
     "output_type": "stream",
     "text": [
      "Mann-WhitneyU: naive_bayes vs. ann\n"
     ]
    },
    {
     "data": {
      "text/plain": [
       "MannwhitneyuResult(statistic=12.0, pvalue=0.0018875627844461226)"
      ]
     },
     "execution_count": 32,
     "metadata": {},
     "output_type": "execute_result"
    },
    {
     "name": "stdout",
     "output_type": "stream",
     "text": [
      "Mann-WhitneyU: naive_bayes vs. lcs\n"
     ]
    },
    {
     "data": {
      "text/plain": [
       "MannwhitneyuResult(statistic=8.0, pvalue=0.0008531246844597982)"
      ]
     },
     "execution_count": 32,
     "metadata": {},
     "output_type": "execute_result"
    },
    {
     "name": "stdout",
     "output_type": "stream",
     "text": [
      "Mann-WhitneyU: svm vs. ann\n"
     ]
    },
    {
     "data": {
      "text/plain": [
       "MannwhitneyuResult(statistic=50.0, pvalue=0.48349933325334177)"
      ]
     },
     "execution_count": 32,
     "metadata": {},
     "output_type": "execute_result"
    },
    {
     "name": "stdout",
     "output_type": "stream",
     "text": [
      "Mann-WhitneyU: svm vs. lcs\n"
     ]
    },
    {
     "data": {
      "text/plain": [
       "MannwhitneyuResult(statistic=0.0, pvalue=8.632699844113366e-05)"
      ]
     },
     "execution_count": 32,
     "metadata": {},
     "output_type": "execute_result"
    },
    {
     "name": "stdout",
     "output_type": "stream",
     "text": [
      "Mann-WhitneyU: ann vs. lcs\n"
     ]
    },
    {
     "data": {
      "text/plain": [
       "MannwhitneyuResult(statistic=2.0, pvalue=0.00012187941007626433)"
      ]
     },
     "execution_count": 32,
     "metadata": {},
     "output_type": "execute_result"
    }
   ],
   "source": [
    "mann_stats = []\n",
    "#Balanced Accuracy\n",
    "for i in range(0,7):\n",
    "    for j in range(i+1,8):\n",
    "        \n",
    "        set1 = d1_bacc[i]\n",
    "        set2 = d1_bacc[j]\n",
    "        print('Mann-WhitneyU: '+str(algorithms[i])+' vs. '+str(algorithms[j]))\n",
    "        report = stats.mannwhitneyu(set1,set2)\n",
    "        report\n",
    "        tempstats = [algorithms[i], algorithms[j], report[0], report[1]]\n",
    "        mann_stats.append(tempstats)\n",
    "\n",
    "mann_stats_df = pd.DataFrame(mann_stats)\n",
    "filepath = results_path+'Stats_'+str(datasets[0])+'_'+'BAccuracy_Mann.csv'\n",
    "mann_stats_df.to_csv(filepath, header = ['Algorithm 1', 'Algorithm 2', 'statistic', 'p-value'], index = False)  "
   ]
  },
  {
   "cell_type": "markdown",
   "metadata": {},
   "source": [
    "## Mann-Whitney U test (pairwise comparisons in dataset 2)"
   ]
  },
  {
   "cell_type": "code",
   "execution_count": 33,
   "metadata": {},
   "outputs": [
    {
     "name": "stdout",
     "output_type": "stream",
     "text": [
      "Mann-WhitneyU: logistic_regression vs. decision_tree\n"
     ]
    },
    {
     "data": {
      "text/plain": [
       "MannwhitneyuResult(statistic=18.0, pvalue=0.008607768731307903)"
      ]
     },
     "execution_count": 33,
     "metadata": {},
     "output_type": "execute_result"
    },
    {
     "name": "stdout",
     "output_type": "stream",
     "text": [
      "Mann-WhitneyU: logistic_regression vs. random_forest\n"
     ]
    },
    {
     "data": {
      "text/plain": [
       "MannwhitneyuResult(statistic=41.0, pvalue=0.26026144163788634)"
      ]
     },
     "execution_count": 33,
     "metadata": {},
     "output_type": "execute_result"
    },
    {
     "name": "stdout",
     "output_type": "stream",
     "text": [
      "Mann-WhitneyU: logistic_regression vs. xgboost\n"
     ]
    },
    {
     "data": {
      "text/plain": [
       "MannwhitneyuResult(statistic=32.0, pvalue=0.09293836618293788)"
      ]
     },
     "execution_count": 33,
     "metadata": {},
     "output_type": "execute_result"
    },
    {
     "name": "stdout",
     "output_type": "stream",
     "text": [
      "Mann-WhitneyU: logistic_regression vs. naive_bayes\n"
     ]
    },
    {
     "data": {
      "text/plain": [
       "MannwhitneyuResult(statistic=3.0, pvalue=0.00021981937631328227)"
      ]
     },
     "execution_count": 33,
     "metadata": {},
     "output_type": "execute_result"
    },
    {
     "name": "stdout",
     "output_type": "stream",
     "text": [
      "Mann-WhitneyU: logistic_regression vs. svm\n"
     ]
    },
    {
     "data": {
      "text/plain": [
       "MannwhitneyuResult(statistic=0.0, pvalue=3.193222375218491e-05)"
      ]
     },
     "execution_count": 33,
     "metadata": {},
     "output_type": "execute_result"
    },
    {
     "name": "stdout",
     "output_type": "stream",
     "text": [
      "Mann-WhitneyU: logistic_regression vs. ann\n"
     ]
    },
    {
     "data": {
      "text/plain": [
       "MannwhitneyuResult(statistic=4.0, pvalue=0.00028864501379232104)"
      ]
     },
     "execution_count": 33,
     "metadata": {},
     "output_type": "execute_result"
    },
    {
     "name": "stdout",
     "output_type": "stream",
     "text": [
      "Mann-WhitneyU: logistic_regression vs. lcs\n"
     ]
    },
    {
     "data": {
      "text/plain": [
       "MannwhitneyuResult(statistic=0.0, pvalue=9.133589555477501e-05)"
      ]
     },
     "execution_count": 33,
     "metadata": {},
     "output_type": "execute_result"
    },
    {
     "name": "stdout",
     "output_type": "stream",
     "text": [
      "Mann-WhitneyU: decision_tree vs. random_forest\n"
     ]
    },
    {
     "data": {
      "text/plain": [
       "MannwhitneyuResult(statistic=22.0, pvalue=0.018781735942949195)"
      ]
     },
     "execution_count": 33,
     "metadata": {},
     "output_type": "execute_result"
    },
    {
     "name": "stdout",
     "output_type": "stream",
     "text": [
      "Mann-WhitneyU: decision_tree vs. xgboost\n"
     ]
    },
    {
     "data": {
      "text/plain": [
       "MannwhitneyuResult(statistic=26.0, pvalue=0.0377757927648433)"
      ]
     },
     "execution_count": 33,
     "metadata": {},
     "output_type": "execute_result"
    },
    {
     "name": "stdout",
     "output_type": "stream",
     "text": [
      "Mann-WhitneyU: decision_tree vs. naive_bayes\n"
     ]
    },
    {
     "data": {
      "text/plain": [
       "MannwhitneyuResult(statistic=18.0, pvalue=0.008607768731307903)"
      ]
     },
     "execution_count": 33,
     "metadata": {},
     "output_type": "execute_result"
    },
    {
     "name": "stdout",
     "output_type": "stream",
     "text": [
      "Mann-WhitneyU: decision_tree vs. svm\n"
     ]
    },
    {
     "data": {
      "text/plain": [
       "MannwhitneyuResult(statistic=0.0, pvalue=3.1701437086470106e-05)"
      ]
     },
     "execution_count": 33,
     "metadata": {},
     "output_type": "execute_result"
    },
    {
     "name": "stdout",
     "output_type": "stream",
     "text": [
      "Mann-WhitneyU: decision_tree vs. ann\n"
     ]
    },
    {
     "data": {
      "text/plain": [
       "MannwhitneyuResult(statistic=1.0, pvalue=0.0001210868928692622)"
      ]
     },
     "execution_count": 33,
     "metadata": {},
     "output_type": "execute_result"
    },
    {
     "name": "stdout",
     "output_type": "stream",
     "text": [
      "Mann-WhitneyU: decision_tree vs. lcs\n"
     ]
    },
    {
     "data": {
      "text/plain": [
       "MannwhitneyuResult(statistic=0.0, pvalue=9.082557304573249e-05)"
      ]
     },
     "execution_count": 33,
     "metadata": {},
     "output_type": "execute_result"
    },
    {
     "name": "stdout",
     "output_type": "stream",
     "text": [
      "Mann-WhitneyU: random_forest vs. xgboost\n"
     ]
    },
    {
     "data": {
      "text/plain": [
       "MannwhitneyuResult(statistic=36.0, pvalue=0.15374472830934066)"
      ]
     },
     "execution_count": 33,
     "metadata": {},
     "output_type": "execute_result"
    },
    {
     "name": "stdout",
     "output_type": "stream",
     "text": [
      "Mann-WhitneyU: random_forest vs. naive_bayes\n"
     ]
    },
    {
     "data": {
      "text/plain": [
       "MannwhitneyuResult(statistic=4.0, pvalue=0.00029141997158963715)"
      ]
     },
     "execution_count": 33,
     "metadata": {},
     "output_type": "execute_result"
    },
    {
     "name": "stdout",
     "output_type": "stream",
     "text": [
      "Mann-WhitneyU: random_forest vs. svm\n"
     ]
    },
    {
     "data": {
      "text/plain": [
       "MannwhitneyuResult(statistic=0.0, pvalue=3.193222375218491e-05)"
      ]
     },
     "execution_count": 33,
     "metadata": {},
     "output_type": "execute_result"
    },
    {
     "name": "stdout",
     "output_type": "stream",
     "text": [
      "Mann-WhitneyU: random_forest vs. ann\n"
     ]
    },
    {
     "data": {
      "text/plain": [
       "MannwhitneyuResult(statistic=3.0, pvalue=0.0002176393852588628)"
      ]
     },
     "execution_count": 33,
     "metadata": {},
     "output_type": "execute_result"
    },
    {
     "name": "stdout",
     "output_type": "stream",
     "text": [
      "Mann-WhitneyU: random_forest vs. lcs\n"
     ]
    },
    {
     "data": {
      "text/plain": [
       "MannwhitneyuResult(statistic=0.0, pvalue=9.133589555477501e-05)"
      ]
     },
     "execution_count": 33,
     "metadata": {},
     "output_type": "execute_result"
    },
    {
     "name": "stdout",
     "output_type": "stream",
     "text": [
      "Mann-WhitneyU: xgboost vs. naive_bayes\n"
     ]
    },
    {
     "data": {
      "text/plain": [
       "MannwhitneyuResult(statistic=7.0, pvalue=0.0006574723348566069)"
      ]
     },
     "execution_count": 33,
     "metadata": {},
     "output_type": "execute_result"
    },
    {
     "name": "stdout",
     "output_type": "stream",
     "text": [
      "Mann-WhitneyU: xgboost vs. svm\n"
     ]
    },
    {
     "data": {
      "text/plain": [
       "MannwhitneyuResult(statistic=0.0, pvalue=3.193222375218491e-05)"
      ]
     },
     "execution_count": 33,
     "metadata": {},
     "output_type": "execute_result"
    },
    {
     "name": "stdout",
     "output_type": "stream",
     "text": [
      "Mann-WhitneyU: xgboost vs. ann\n"
     ]
    },
    {
     "data": {
      "text/plain": [
       "MannwhitneyuResult(statistic=1.0, pvalue=0.00012174335714866438)"
      ]
     },
     "execution_count": 33,
     "metadata": {},
     "output_type": "execute_result"
    },
    {
     "name": "stdout",
     "output_type": "stream",
     "text": [
      "Mann-WhitneyU: xgboost vs. lcs\n"
     ]
    },
    {
     "data": {
      "text/plain": [
       "MannwhitneyuResult(statistic=0.0, pvalue=9.133589555477501e-05)"
      ]
     },
     "execution_count": 33,
     "metadata": {},
     "output_type": "execute_result"
    },
    {
     "name": "stdout",
     "output_type": "stream",
     "text": [
      "Mann-WhitneyU: naive_bayes vs. svm\n"
     ]
    },
    {
     "data": {
      "text/plain": [
       "MannwhitneyuResult(statistic=0.0, pvalue=3.193222375218491e-05)"
      ]
     },
     "execution_count": 33,
     "metadata": {},
     "output_type": "execute_result"
    },
    {
     "name": "stdout",
     "output_type": "stream",
     "text": [
      "Mann-WhitneyU: naive_bayes vs. ann\n"
     ]
    },
    {
     "data": {
      "text/plain": [
       "MannwhitneyuResult(statistic=0.0, pvalue=9.031736040376755e-05)"
      ]
     },
     "execution_count": 33,
     "metadata": {},
     "output_type": "execute_result"
    },
    {
     "name": "stdout",
     "output_type": "stream",
     "text": [
      "Mann-WhitneyU: naive_bayes vs. lcs\n"
     ]
    },
    {
     "data": {
      "text/plain": [
       "MannwhitneyuResult(statistic=2.0, pvalue=0.00016491926038899677)"
      ]
     },
     "execution_count": 33,
     "metadata": {},
     "output_type": "execute_result"
    },
    {
     "name": "stdout",
     "output_type": "stream",
     "text": [
      "Mann-WhitneyU: svm vs. ann\n"
     ]
    },
    {
     "data": {
      "text/plain": [
       "MannwhitneyuResult(statistic=30.0, pvalue=0.04800036248142131)"
      ]
     },
     "execution_count": 33,
     "metadata": {},
     "output_type": "execute_result"
    },
    {
     "name": "stdout",
     "output_type": "stream",
     "text": [
      "Mann-WhitneyU: svm vs. lcs\n"
     ]
    },
    {
     "data": {
      "text/plain": [
       "MannwhitneyuResult(statistic=0.0, pvalue=3.193222375218491e-05)"
      ]
     },
     "execution_count": 33,
     "metadata": {},
     "output_type": "execute_result"
    },
    {
     "name": "stdout",
     "output_type": "stream",
     "text": [
      "Mann-WhitneyU: ann vs. lcs\n"
     ]
    },
    {
     "data": {
      "text/plain": [
       "MannwhitneyuResult(statistic=0.0, pvalue=9.031736040376755e-05)"
      ]
     },
     "execution_count": 33,
     "metadata": {},
     "output_type": "execute_result"
    }
   ],
   "source": [
    "mann_stats = []\n",
    "#Balanced Accuracy\n",
    "for i in range(0,7):\n",
    "    for j in range(i+1,8):\n",
    "        \n",
    "        set1 = d2_bacc[i]\n",
    "        set2 = d2_bacc[j]\n",
    "        print('Mann-WhitneyU: '+str(algorithms[i])+' vs. '+str(algorithms[j]))\n",
    "        report = stats.mannwhitneyu(set1,set2)\n",
    "        report\n",
    "        tempstats = [algorithms[i], algorithms[j], report[0], report[1]]\n",
    "        mann_stats.append(tempstats)\n",
    "\n",
    "mann_stats_df = pd.DataFrame(mann_stats)\n",
    "filepath = results_path+'Stats_'+str(datasets[1])+'_'+'BAccuracy_Mann.csv'\n",
    "mann_stats_df.to_csv(filepath, header = ['Algorithm 1', 'Algorithm 2', 'statistic', 'p-value'], index = False)   "
   ]
  },
  {
   "cell_type": "markdown",
   "metadata": {},
   "source": [
    "## Mann-Whitney U test (pairwise comparisons in dataset 3)"
   ]
  },
  {
   "cell_type": "code",
   "execution_count": 34,
   "metadata": {},
   "outputs": [
    {
     "name": "stdout",
     "output_type": "stream",
     "text": [
      "Mann-WhitneyU: logistic_regression vs. decision_tree\n"
     ]
    },
    {
     "data": {
      "text/plain": [
       "MannwhitneyuResult(statistic=45.0, pvalue=0.3668649978481236)"
      ]
     },
     "execution_count": 34,
     "metadata": {},
     "output_type": "execute_result"
    },
    {
     "name": "stdout",
     "output_type": "stream",
     "text": [
      "Mann-WhitneyU: logistic_regression vs. random_forest\n"
     ]
    },
    {
     "data": {
      "text/plain": [
       "MannwhitneyuResult(statistic=43.0, pvalue=0.3115881119410587)"
      ]
     },
     "execution_count": 34,
     "metadata": {},
     "output_type": "execute_result"
    },
    {
     "name": "stdout",
     "output_type": "stream",
     "text": [
      "Mann-WhitneyU: logistic_regression vs. xgboost\n"
     ]
    },
    {
     "data": {
      "text/plain": [
       "MannwhitneyuResult(statistic=47.0, pvalue=0.42505336956926293)"
      ]
     },
     "execution_count": 34,
     "metadata": {},
     "output_type": "execute_result"
    },
    {
     "name": "stdout",
     "output_type": "stream",
     "text": [
      "Mann-WhitneyU: logistic_regression vs. naive_bayes\n"
     ]
    },
    {
     "data": {
      "text/plain": [
       "MannwhitneyuResult(statistic=22.0, pvalue=0.01881765689365712)"
      ]
     },
     "execution_count": 34,
     "metadata": {},
     "output_type": "execute_result"
    },
    {
     "name": "stdout",
     "output_type": "stream",
     "text": [
      "Mann-WhitneyU: logistic_regression vs. svm\n"
     ]
    },
    {
     "data": {
      "text/plain": [
       "MannwhitneyuResult(statistic=10.0, pvalue=0.0007104559900512436)"
      ]
     },
     "execution_count": 34,
     "metadata": {},
     "output_type": "execute_result"
    },
    {
     "name": "stdout",
     "output_type": "stream",
     "text": [
      "Mann-WhitneyU: logistic_regression vs. ann\n"
     ]
    },
    {
     "data": {
      "text/plain": [
       "MannwhitneyuResult(statistic=46.0, pvalue=0.3956300532015894)"
      ]
     },
     "execution_count": 34,
     "metadata": {},
     "output_type": "execute_result"
    },
    {
     "name": "stdout",
     "output_type": "stream",
     "text": [
      "Mann-WhitneyU: logistic_regression vs. lcs\n"
     ]
    },
    {
     "data": {
      "text/plain": [
       "MannwhitneyuResult(statistic=34.0, pvalue=0.12066079650859002)"
      ]
     },
     "execution_count": 34,
     "metadata": {},
     "output_type": "execute_result"
    },
    {
     "name": "stdout",
     "output_type": "stream",
     "text": [
      "Mann-WhitneyU: decision_tree vs. random_forest\n"
     ]
    },
    {
     "data": {
      "text/plain": [
       "MannwhitneyuResult(statistic=45.5, pvalue=0.3811410627931685)"
      ]
     },
     "execution_count": 34,
     "metadata": {},
     "output_type": "execute_result"
    },
    {
     "name": "stdout",
     "output_type": "stream",
     "text": [
      "Mann-WhitneyU: decision_tree vs. xgboost\n"
     ]
    },
    {
     "data": {
      "text/plain": [
       "MannwhitneyuResult(statistic=48.0, pvalue=0.45486094457277765)"
      ]
     },
     "execution_count": 34,
     "metadata": {},
     "output_type": "execute_result"
    },
    {
     "name": "stdout",
     "output_type": "stream",
     "text": [
      "Mann-WhitneyU: decision_tree vs. naive_bayes\n"
     ]
    },
    {
     "data": {
      "text/plain": [
       "MannwhitneyuResult(statistic=24.0, pvalue=0.026951278584693587)"
      ]
     },
     "execution_count": 34,
     "metadata": {},
     "output_type": "execute_result"
    },
    {
     "name": "stdout",
     "output_type": "stream",
     "text": [
      "Mann-WhitneyU: decision_tree vs. svm\n"
     ]
    },
    {
     "data": {
      "text/plain": [
       "MannwhitneyuResult(statistic=20.0, pvalue=0.008593546960647971)"
      ]
     },
     "execution_count": 34,
     "metadata": {},
     "output_type": "execute_result"
    },
    {
     "name": "stdout",
     "output_type": "stream",
     "text": [
      "Mann-WhitneyU: decision_tree vs. ann\n"
     ]
    },
    {
     "data": {
      "text/plain": [
       "MannwhitneyuResult(statistic=46.0, pvalue=0.3956300532015894)"
      ]
     },
     "execution_count": 34,
     "metadata": {},
     "output_type": "execute_result"
    },
    {
     "name": "stdout",
     "output_type": "stream",
     "text": [
      "Mann-WhitneyU: decision_tree vs. lcs\n"
     ]
    },
    {
     "data": {
      "text/plain": [
       "MannwhitneyuResult(statistic=36.0, pvalue=0.15374472830934066)"
      ]
     },
     "execution_count": 34,
     "metadata": {},
     "output_type": "execute_result"
    },
    {
     "name": "stdout",
     "output_type": "stream",
     "text": [
      "Mann-WhitneyU: random_forest vs. xgboost\n"
     ]
    },
    {
     "data": {
      "text/plain": [
       "MannwhitneyuResult(statistic=41.0, pvalue=0.26026144163788634)"
      ]
     },
     "execution_count": 34,
     "metadata": {},
     "output_type": "execute_result"
    },
    {
     "name": "stdout",
     "output_type": "stream",
     "text": [
      "Mann-WhitneyU: random_forest vs. naive_bayes\n"
     ]
    },
    {
     "data": {
      "text/plain": [
       "MannwhitneyuResult(statistic=27.0, pvalue=0.04448650585090664)"
      ]
     },
     "execution_count": 34,
     "metadata": {},
     "output_type": "execute_result"
    },
    {
     "name": "stdout",
     "output_type": "stream",
     "text": [
      "Mann-WhitneyU: random_forest vs. svm\n"
     ]
    },
    {
     "data": {
      "text/plain": [
       "MannwhitneyuResult(statistic=20.0, pvalue=0.008593546960647971)"
      ]
     },
     "execution_count": 34,
     "metadata": {},
     "output_type": "execute_result"
    },
    {
     "name": "stdout",
     "output_type": "stream",
     "text": [
      "Mann-WhitneyU: random_forest vs. ann\n"
     ]
    },
    {
     "data": {
      "text/plain": [
       "MannwhitneyuResult(statistic=43.0, pvalue=0.3115227654189539)"
      ]
     },
     "execution_count": 34,
     "metadata": {},
     "output_type": "execute_result"
    },
    {
     "name": "stdout",
     "output_type": "stream",
     "text": [
      "Mann-WhitneyU: random_forest vs. lcs\n"
     ]
    },
    {
     "data": {
      "text/plain": [
       "MannwhitneyuResult(statistic=42.0, pvalue=0.28537519402908695)"
      ]
     },
     "execution_count": 34,
     "metadata": {},
     "output_type": "execute_result"
    },
    {
     "name": "stdout",
     "output_type": "stream",
     "text": [
      "Mann-WhitneyU: xgboost vs. naive_bayes\n"
     ]
    },
    {
     "data": {
      "text/plain": [
       "MannwhitneyuResult(statistic=27.0, pvalue=0.04448650585090664)"
      ]
     },
     "execution_count": 34,
     "metadata": {},
     "output_type": "execute_result"
    },
    {
     "name": "stdout",
     "output_type": "stream",
     "text": [
      "Mann-WhitneyU: xgboost vs. svm\n"
     ]
    },
    {
     "data": {
      "text/plain": [
       "MannwhitneyuResult(statistic=30.0, pvalue=0.057629106798727014)"
      ]
     },
     "execution_count": 34,
     "metadata": {},
     "output_type": "execute_result"
    },
    {
     "name": "stdout",
     "output_type": "stream",
     "text": [
      "Mann-WhitneyU: xgboost vs. ann\n"
     ]
    },
    {
     "data": {
      "text/plain": [
       "MannwhitneyuResult(statistic=49.0, pvalue=0.4849193207024165)"
      ]
     },
     "execution_count": 34,
     "metadata": {},
     "output_type": "execute_result"
    },
    {
     "name": "stdout",
     "output_type": "stream",
     "text": [
      "Mann-WhitneyU: xgboost vs. lcs\n"
     ]
    },
    {
     "data": {
      "text/plain": [
       "MannwhitneyuResult(statistic=36.0, pvalue=0.15374472830934066)"
      ]
     },
     "execution_count": 34,
     "metadata": {},
     "output_type": "execute_result"
    },
    {
     "name": "stdout",
     "output_type": "stream",
     "text": [
      "Mann-WhitneyU: naive_bayes vs. svm\n"
     ]
    },
    {
     "data": {
      "text/plain": [
       "MannwhitneyuResult(statistic=0.0, pvalue=3.193222375218491e-05)"
      ]
     },
     "execution_count": 34,
     "metadata": {},
     "output_type": "execute_result"
    },
    {
     "name": "stdout",
     "output_type": "stream",
     "text": [
      "Mann-WhitneyU: naive_bayes vs. ann\n"
     ]
    },
    {
     "data": {
      "text/plain": [
       "MannwhitneyuResult(statistic=24.0, pvalue=0.026906183006072715)"
      ]
     },
     "execution_count": 34,
     "metadata": {},
     "output_type": "execute_result"
    },
    {
     "name": "stdout",
     "output_type": "stream",
     "text": [
      "Mann-WhitneyU: naive_bayes vs. lcs\n"
     ]
    },
    {
     "data": {
      "text/plain": [
       "MannwhitneyuResult(statistic=38.0, pvalue=0.19233653136775436)"
      ]
     },
     "execution_count": 34,
     "metadata": {},
     "output_type": "execute_result"
    },
    {
     "name": "stdout",
     "output_type": "stream",
     "text": [
      "Mann-WhitneyU: svm vs. ann\n"
     ]
    },
    {
     "data": {
      "text/plain": [
       "MannwhitneyuResult(statistic=20.0, pvalue=0.0059183943997769585)"
      ]
     },
     "execution_count": 34,
     "metadata": {},
     "output_type": "execute_result"
    },
    {
     "name": "stdout",
     "output_type": "stream",
     "text": [
      "Mann-WhitneyU: svm vs. lcs\n"
     ]
    },
    {
     "data": {
      "text/plain": [
       "MannwhitneyuResult(statistic=10.0, pvalue=0.0007104559900512436)"
      ]
     },
     "execution_count": 34,
     "metadata": {},
     "output_type": "execute_result"
    },
    {
     "name": "stdout",
     "output_type": "stream",
     "text": [
      "Mann-WhitneyU: ann vs. lcs\n"
     ]
    },
    {
     "data": {
      "text/plain": [
       "MannwhitneyuResult(statistic=34.0, pvalue=0.12057231310804212)"
      ]
     },
     "execution_count": 34,
     "metadata": {},
     "output_type": "execute_result"
    }
   ],
   "source": [
    "mann_stats = []\n",
    "#Balanced Accuracy\n",
    "for i in range(0,7):\n",
    "    for j in range(i+1,8):\n",
    "        \n",
    "        set1 = d3_bacc[i]\n",
    "        set2 = d3_bacc[j]\n",
    "        print('Mann-WhitneyU: '+str(algorithms[i])+' vs. '+str(algorithms[j]))\n",
    "        report = stats.mannwhitneyu(set1,set2)\n",
    "        report\n",
    "        tempstats = [algorithms[i], algorithms[j], report[0], report[1]]\n",
    "        mann_stats.append(tempstats)\n",
    "\n",
    "mann_stats_df = pd.DataFrame(mann_stats)\n",
    "filepath = results_path+'Stats_'+str(datasets[2])+'_'+'BAccuracy_Mann.csv'\n",
    "mann_stats_df.to_csv(filepath, header = ['Algorithm 1', 'Algorithm 2', 'statistic', 'p-value'], index = False)"
   ]
  },
  {
   "cell_type": "code",
   "execution_count": null,
   "metadata": {},
   "outputs": [],
   "source": []
  }
 ],
 "metadata": {
  "kernelspec": {
   "display_name": "Python 3",
   "language": "python",
   "name": "python3"
  },
  "language_info": {
   "codemirror_mode": {
    "name": "ipython",
    "version": 3
   },
   "file_extension": ".py",
   "mimetype": "text/x-python",
   "name": "python",
   "nbconvert_exporter": "python",
   "pygments_lexer": "ipython3",
   "version": "3.5.6"
  }
 },
 "nbformat": 4,
 "nbformat_minor": 2
}
